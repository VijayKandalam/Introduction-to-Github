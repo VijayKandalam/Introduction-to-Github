{
  "nbformat": 4,
  "nbformat_minor": 0,
  "metadata": {
    "colab": {
      "provenance": [],
      "authorship_tag": "ABX9TyORA++nGhRQd7ST2z249fmT",
      "include_colab_link": true
    },
    "kernelspec": {
      "name": "python3",
      "display_name": "Python 3"
    },
    "language_info": {
      "name": "python"
    }
  },
  "cells": [
    {
      "cell_type": "markdown",
      "metadata": {
        "id": "view-in-github",
        "colab_type": "text"
      },
      "source": [
        "<a href=\"https://colab.research.google.com/github/VijayKandalam/Introduction-to-Github/blob/main/word_break.ipynb\" target=\"_parent\"><img src=\"https://colab.research.google.com/assets/colab-badge.svg\" alt=\"Open In Colab\"/></a>"
      ]
    },
    {
      "cell_type": "markdown",
      "source": [
        "# New Section"
      ],
      "metadata": {
        "id": "H228Fwy6HRO2"
      }
    },
    {
      "cell_type": "code",
      "execution_count": null,
      "metadata": {
        "colab": {
          "base_uri": "https://localhost:8080/"
        },
        "id": "CS_AmBnmEMR2",
        "outputId": "4fa0f4db-ae6f-4fed-9352-d7debaec1414"
      },
      "outputs": [
        {
          "name": "stdout",
          "output_type": "stream",
          "text": [
            "Enter a word (# to end): a\n",
            "Enter a word (# to end): in\n",
            "Enter a word (# to end): di\n",
            "Enter a word (# to end): like\n",
            "Enter a word (# to end): I\n",
            "Enter a word (# to end): #\n"
          ]
        },
        {
          "output_type": "execute_result",
          "data": {
            "text/plain": [
              "['a', 'in', 'di', 'like', 'I']"
            ]
          },
          "metadata": {},
          "execution_count": 1
        }
      ],
      "source": [
        "# prompt: prompt to input a series of words. Entering the word # should end the input. The words should be saved to an array called dictionary\n",
        "\n",
        "dictionary = []\n",
        "while True:\n",
        "  word = input(\"Enter a word (# to end): \")\n",
        "  if word == '#':\n",
        "    break\n",
        "  dictionary.append(word)\n",
        "dictionary\n"
      ]
    },
    {
      "cell_type": "code",
      "source": [
        "import re\n",
        "\n",
        "def find_all_occurrences(word, text):\n",
        "    occurrences = []\n",
        "    for match in re.finditer(r'\\b' + re.escape(word) + r'\\b', text, re.IGNORECASE):\n",
        "        occurrences.append(match.start())\n",
        "    return occurrences\n",
        "\n",
        "# prompt to input a series of words. Entering the word # should end the input. The words should be saved to an array called dictionary\n",
        "\n",
        "dictionary = []\n",
        "while True:\n",
        "  word = input(\"Enter a word (# to end): \")\n",
        "  if word == '#':\n",
        "    break\n",
        "  dictionary.append(word)\n",
        "\n",
        "# prompt to input a string. It should only take one string\n",
        "\n",
        "word = input(\"Enter input string: \")\n",
        "\n",
        "# find count of words in the Dictionary\n",
        "\n",
        "wordCount = len(dictionary)\n",
        "\n",
        "# find the number of characters in the string variable word\n",
        "\n",
        "charCount = len(word)\n",
        "\n",
        "# Define a new array Index. Each element of the new should be an array of strings\n",
        "# For each element of Dictionary, find if the element can be found in the input string Word\n",
        "\n",
        "index = []\n",
        "\n",
        "for element in dictionary:\n",
        "  if element in word:\n",
        "      indices = find_all_occurrences(element, word)\n",
        "      for i in range(len(indices)):\n",
        "        index[indices[i]].append(element)\n",
        "      # print(f\"'{element}' found at indices: {indices}\")\n",
        "\n",
        "index"
      ],
      "metadata": {
        "colab": {
          "base_uri": "https://localhost:8080/",
          "height": 163
        },
        "id": "-MIuCbBpHfjy",
        "outputId": "2cfd453b-7990-4c7f-8270-c89f33e878c2"
      },
      "execution_count": null,
      "outputs": [
        {
          "name": "stdout",
          "output_type": "stream",
          "text": [
            "Enter a word (# to end): a\n",
            "Enter a word (# to end): di\n",
            "Enter a word (# to end): in\n",
            "Enter a word (# to end): i\n",
            "Enter a word (# to end): like\n",
            "Enter a word (# to end): #\n",
            "Enter input string: ilikeindia\n"
          ]
        },
        {
          "output_type": "execute_result",
          "data": {
            "text/plain": [
              "'ilikeindia'"
            ],
            "application/vnd.google.colaboratory.intrinsic+json": {
              "type": "string"
            }
          },
          "metadata": {},
          "execution_count": 2
        }
      ]
    },
    {
      "cell_type": "code",
      "source": [
        "wordCount = len(dictionary)\n",
        "\n",
        "# find the number of characters in the string variable word\n",
        "\n",
        "charCount = len(word)\n",
        "\n",
        "\n",
        "wordCount"
      ],
      "metadata": {
        "colab": {
          "base_uri": "https://localhost:8080/"
        },
        "id": "Q-R5H8ZOJB-e",
        "outputId": "2b26cb03-8f5c-4597-8e5a-ae1be9306747"
      },
      "execution_count": null,
      "outputs": [
        {
          "output_type": "execute_result",
          "data": {
            "text/plain": [
              "5"
            ]
          },
          "metadata": {},
          "execution_count": 13
        }
      ]
    },
    {
      "cell_type": "code",
      "source": [
        "# prompt: Define a new array Index. Each element of the new should be an array of strings\n",
        "\n",
        "index = []\n",
        "for i in range(len(word)):\n",
        "    index.append([])\n",
        "    for j in range(len()):\n",
        "        index[i].append(dictionary[i][j])\n",
        "index\n"
      ],
      "metadata": {
        "id": "UMPXu0sYTGVl"
      },
      "execution_count": null,
      "outputs": []
    },
    {
      "cell_type": "code",
      "source": [
        "for element in dictionary:\n",
        "  if element in word:\n",
        "      print(f\"'{element}' found in the input string.\")\n",
        "  else:\n",
        "      print(f\"'{element}' not found in the input string.\")"
      ],
      "metadata": {
        "colab": {
          "base_uri": "https://localhost:8080/"
        },
        "id": "Wkn6DDgXVfZC",
        "outputId": "0a87ec48-1353-424a-d37e-be5fe7984891"
      },
      "execution_count": null,
      "outputs": [
        {
          "output_type": "stream",
          "name": "stdout",
          "text": [
            "'a' found in the input string.\n",
            "'di' found in the input string.\n",
            "'in' found in the input string.\n",
            "'i' found in the input string.\n",
            "'like' found in the input string.\n"
          ]
        }
      ]
    },
    {
      "cell_type": "code",
      "source": [
        "import re\n",
        "import sys\n",
        "\n",
        "def rec_fun(pos, oldPos, buildStr, oldBuildStr, result):\n",
        "\n",
        "  emptyInd = False\n",
        "\n",
        "  if (index[pos][0] == ''):\n",
        "    pos = oldPos\n",
        "    buildStr = oldBuildStr\n",
        "    emptyInd = True\n",
        "\n",
        "  print(emptyInd)\n",
        "\n",
        "  if (emptyInd==False):\n",
        "\n",
        "    for j in range(len(index[pos])):\n",
        "\n",
        "      #result = False\n",
        "      indPos = pos\n",
        "      #buildStr = temp\n",
        "\n",
        "      if (index[pos][j] == ''):\n",
        "        break\n",
        "\n",
        "      else:\n",
        "        temp = buildStr\n",
        "        buildStr = buildStr + index[pos][j]\n",
        "\n",
        "        if (buildStr != word):\n",
        "          print('Sentence ' + buildStr + ' is NOT SAME as the input string ' + word)\n",
        "\n",
        "        if (buildStr == word):\n",
        "          print('Sentence ' + buildStr + ' is SAME as the input string ' + word)\n",
        "          result = True\n",
        "          break\n",
        "\n",
        "        else:\n",
        "          elmSize = len(index[pos][j])\n",
        "          indPos+=elmSize\n",
        "          #sys.exit(0)\n",
        "          result = rec_fun(indPos, oldPos, buildStr, oldBuildStr, result)\n",
        "\n",
        "  return result\n",
        "\n",
        "\n",
        "#Varible definition\n",
        "indices = []\n",
        "buildStr = ''\n",
        "dictionary = []\n",
        "word = ''\n",
        "index = []\n",
        "\n",
        "#Test data\n",
        "#dictionary = [\"a\", \"in\", \"di\", \"i\", \"like\", \"test\"]\n",
        "#word = \"ilikeindia\"\n",
        "#dictionary = [\"a\"]\n",
        "#word = \"aaaaaaaaaa\"\n",
        "#dictionary = [\"i\", \"gfg\", \"like\"]\n",
        "#word = \"ilike\"\n",
        "#dictionary = [\"i\", \"like\", \"man\", \"india\", \"gfg\"]\n",
        "#word = \"ilikegfg\"\n",
        "\n",
        "dictionary = [\"i\", \"like\", \"man\", \"india\", \"gfg\", \"es\", \"go\"]\n",
        "word = \"ilikemangoes\"\n",
        "\n",
        "index = [[\"\" for c in range(len(word))] for r in range(len(word))]\n",
        "\n",
        "for element in dictionary:\n",
        "\n",
        "  if element in word:\n",
        "\n",
        "      indices = [match.start() for match in re.finditer(element, word)]\n",
        "\n",
        "      for i in range(len(indices)):\n",
        "\n",
        "        for j in range(len(index[indices[i]])):\n",
        "\n",
        "          if (index[indices[i]][j] == ''):\n",
        "            index[indices[i]][j] = element\n",
        "            break\n",
        "\n",
        "print(index)\n",
        "\n",
        "blankTxt = True\n",
        "\n",
        "for i in range(len(index[0])):\n",
        "\n",
        "  if (index[0][i] != ''):\n",
        "    blankTxt = False\n",
        "    break\n",
        "\n",
        "if (blankTxt):\n",
        "    print(\"String cannot be formed using disctionary[] words\")\n",
        "\n",
        "else:\n",
        "  result = False\n",
        "  buildStr = ''\n",
        "  indPos = 0\n",
        "\n",
        "  for i in range(len(index[0])):\n",
        "\n",
        "    result = False\n",
        "    buildStr = ''\n",
        "    oldBuildStr = ''\n",
        "    indPos = 0\n",
        "    oldPos = 0\n",
        "    res = ''\n",
        "\n",
        "    if (index[0][i] == ''):\n",
        "      break\n",
        "\n",
        "    else:\n",
        "      buildStr = index[0][i]\n",
        "      #print(str([index[0][i]]))\n",
        "      #buildStr = buildStr + \"i\"\n",
        "      print(buildStr)\n",
        "      print(word)\n",
        "      if (buildStr == word):\n",
        "        result = True\n",
        "        break\n",
        "\n",
        "      else:\n",
        "        elmSize = len(index[0][i])\n",
        "        indPos+=elmSize\n",
        "        result = rec_fun(indPos, oldPos, buildStr, oldBuildStr, result)\n",
        "\n",
        "    if (result):\n",
        "      print(\"String CAN be formed using disctionary[] words\")\n",
        "    else:\n",
        "      print(\"String CANNOT be formed using disctionary[] words\")"
      ],
      "metadata": {
        "colab": {
          "base_uri": "https://localhost:8080/"
        },
        "id": "dGiEFmiCacyU",
        "outputId": "f4cf02eb-ad58-4efd-e8ab-10db0e9fdf76"
      },
      "execution_count": 1,
      "outputs": [
        {
          "output_type": "stream",
          "name": "stdout",
          "text": [
            "[['i', '', '', '', '', '', '', '', '', '', '', ''], ['like', '', '', '', '', '', '', '', '', '', '', ''], ['i', '', '', '', '', '', '', '', '', '', '', ''], ['', '', '', '', '', '', '', '', '', '', '', ''], ['', '', '', '', '', '', '', '', '', '', '', ''], ['man', '', '', '', '', '', '', '', '', '', '', ''], ['', '', '', '', '', '', '', '', '', '', '', ''], ['', '', '', '', '', '', '', '', '', '', '', ''], ['go', '', '', '', '', '', '', '', '', '', '', ''], ['', '', '', '', '', '', '', '', '', '', '', ''], ['es', '', '', '', '', '', '', '', '', '', '', ''], ['', '', '', '', '', '', '', '', '', '', '', '']]\n",
            "i\n",
            "ilikemangoes\n",
            "False\n",
            "Sentence ilike is NOT SAME as the input string ilikemangoes\n",
            "False\n",
            "Sentence ilikeman is NOT SAME as the input string ilikemangoes\n",
            "False\n",
            "Sentence ilikemango is NOT SAME as the input string ilikemangoes\n",
            "False\n",
            "Sentence ilikemangoes is SAME as the input string ilikemangoes\n",
            "String CAN be formed using disctionary[] words\n"
          ]
        }
      ]
    },
    {
      "cell_type": "code",
      "source": [
        "word = \"ilikeindia\"\n",
        "dictionary = [\"i\", \"like\", \"in\", \"di\", \"a\"]\n",
        "buildStr = ''\n",
        "buildStr = buildStr+dictionary[0]\n",
        "print(buildStr)\n",
        "buildStr=buildStr+dictionary[1]\n",
        "print(buildStr)\n",
        "buildStr=buildStr+dictionary[2]\n",
        "print(buildStr)\n",
        "buildStr=buildStr+dictionary[3]\n",
        "print(buildStr)\n",
        "buildStr=buildStr+dictionary[4]\n",
        "print(buildStr)\n",
        "\n",
        "if buildStr == word:\n",
        "    print(\"true\")\n",
        "else:\n",
        "    print(\"false\")"
      ],
      "metadata": {
        "colab": {
          "base_uri": "https://localhost:8080/"
        },
        "id": "-fUGEySAHUD_",
        "outputId": "6a4b98ef-610b-440e-a946-34b03eebcd5b"
      },
      "execution_count": null,
      "outputs": [
        {
          "output_type": "stream",
          "name": "stdout",
          "text": [
            "i\n",
            "ilike\n",
            "ilikein\n",
            "ilikeindi\n",
            "ilikeindia\n",
            "true\n"
          ]
        }
      ]
    },
    {
      "cell_type": "code",
      "source": [
        "word = \"ilikeindia\"\n",
        "index = [[\"i\", \"\", \"\", \"\", \"\"], [\"like\", \"\", \"\", \"\", \"\"],[\"in\", \"\", \"\", \"\", \"\"],[\"di\", \"\", \"\", \"\", \"\"],[\"a\", \"\", \"\", \"\", \"\"]]\n",
        "buildStr = ''\n",
        "buildStr = buildStr+index[0][0]\n",
        "print(buildStr)\n",
        "buildStr = buildStr+index[1][0]\n",
        "print(buildStr)\n",
        "buildStr = buildStr+index[2][0]\n",
        "print(buildStr)\n",
        "buildStr = buildStr+index[3][0]\n",
        "print(buildStr)\n",
        "buildStr = buildStr+index[4][0]\n",
        "print(buildStr)\n",
        "\n",
        "if buildStr == word:\n",
        "    print(\"true\")\n",
        "else:\n",
        "    print(\"false\")"
      ],
      "metadata": {
        "colab": {
          "base_uri": "https://localhost:8080/"
        },
        "id": "tBaxLBE57j5Q",
        "outputId": "1e2d826f-7a5b-4fe4-bb56-77c04629e552"
      },
      "execution_count": null,
      "outputs": [
        {
          "output_type": "stream",
          "name": "stdout",
          "text": [
            "i\n",
            "ilike\n",
            "ilikein\n",
            "ilikeindi\n",
            "ilikeindia\n",
            "true\n"
          ]
        }
      ]
    },
    {
      "cell_type": "code",
      "source": [
        "from google.colab import drive\n",
        "drive.mount('/content/drive')"
      ],
      "metadata": {
        "colab": {
          "base_uri": "https://localhost:8080/",
          "height": 315
        },
        "id": "97SaPphQMAot",
        "outputId": "3f66b6ca-63de-4256-86fa-3606447c8893"
      },
      "execution_count": 3,
      "outputs": [
        {
          "output_type": "error",
          "ename": "MessageError",
          "evalue": "Error: credential propagation was unsuccessful",
          "traceback": [
            "\u001b[0;31m---------------------------------------------------------------------------\u001b[0m",
            "\u001b[0;31mMessageError\u001b[0m                              Traceback (most recent call last)",
            "\u001b[0;32m<ipython-input-3-d5df0069828e>\u001b[0m in \u001b[0;36m<cell line: 0>\u001b[0;34m()\u001b[0m\n\u001b[1;32m      1\u001b[0m \u001b[0;32mfrom\u001b[0m \u001b[0mgoogle\u001b[0m\u001b[0;34m.\u001b[0m\u001b[0mcolab\u001b[0m \u001b[0;32mimport\u001b[0m \u001b[0mdrive\u001b[0m\u001b[0;34m\u001b[0m\u001b[0;34m\u001b[0m\u001b[0m\n\u001b[0;32m----> 2\u001b[0;31m \u001b[0mdrive\u001b[0m\u001b[0;34m.\u001b[0m\u001b[0mmount\u001b[0m\u001b[0;34m(\u001b[0m\u001b[0;34m'/content/drive'\u001b[0m\u001b[0;34m)\u001b[0m\u001b[0;34m\u001b[0m\u001b[0;34m\u001b[0m\u001b[0m\n\u001b[0m",
            "\u001b[0;32m/usr/local/lib/python3.11/dist-packages/google/colab/drive.py\u001b[0m in \u001b[0;36mmount\u001b[0;34m(mountpoint, force_remount, timeout_ms, readonly)\u001b[0m\n\u001b[1;32m     98\u001b[0m \u001b[0;32mdef\u001b[0m \u001b[0mmount\u001b[0m\u001b[0;34m(\u001b[0m\u001b[0mmountpoint\u001b[0m\u001b[0;34m,\u001b[0m \u001b[0mforce_remount\u001b[0m\u001b[0;34m=\u001b[0m\u001b[0;32mFalse\u001b[0m\u001b[0;34m,\u001b[0m \u001b[0mtimeout_ms\u001b[0m\u001b[0;34m=\u001b[0m\u001b[0;36m120000\u001b[0m\u001b[0;34m,\u001b[0m \u001b[0mreadonly\u001b[0m\u001b[0;34m=\u001b[0m\u001b[0;32mFalse\u001b[0m\u001b[0;34m)\u001b[0m\u001b[0;34m:\u001b[0m\u001b[0;34m\u001b[0m\u001b[0;34m\u001b[0m\u001b[0m\n\u001b[1;32m     99\u001b[0m   \u001b[0;34m\"\"\"Mount your Google Drive at the specified mountpoint path.\"\"\"\u001b[0m\u001b[0;34m\u001b[0m\u001b[0;34m\u001b[0m\u001b[0m\n\u001b[0;32m--> 100\u001b[0;31m   return _mount(\n\u001b[0m\u001b[1;32m    101\u001b[0m       \u001b[0mmountpoint\u001b[0m\u001b[0;34m,\u001b[0m\u001b[0;34m\u001b[0m\u001b[0;34m\u001b[0m\u001b[0m\n\u001b[1;32m    102\u001b[0m       \u001b[0mforce_remount\u001b[0m\u001b[0;34m=\u001b[0m\u001b[0mforce_remount\u001b[0m\u001b[0;34m,\u001b[0m\u001b[0;34m\u001b[0m\u001b[0;34m\u001b[0m\u001b[0m\n",
            "\u001b[0;32m/usr/local/lib/python3.11/dist-packages/google/colab/drive.py\u001b[0m in \u001b[0;36m_mount\u001b[0;34m(mountpoint, force_remount, timeout_ms, ephemeral, readonly)\u001b[0m\n\u001b[1;32m    135\u001b[0m   )\n\u001b[1;32m    136\u001b[0m   \u001b[0;32mif\u001b[0m \u001b[0mephemeral\u001b[0m\u001b[0;34m:\u001b[0m\u001b[0;34m\u001b[0m\u001b[0;34m\u001b[0m\u001b[0m\n\u001b[0;32m--> 137\u001b[0;31m     _message.blocking_request(\n\u001b[0m\u001b[1;32m    138\u001b[0m         \u001b[0;34m'request_auth'\u001b[0m\u001b[0;34m,\u001b[0m\u001b[0;34m\u001b[0m\u001b[0;34m\u001b[0m\u001b[0m\n\u001b[1;32m    139\u001b[0m         \u001b[0mrequest\u001b[0m\u001b[0;34m=\u001b[0m\u001b[0;34m{\u001b[0m\u001b[0;34m'authType'\u001b[0m\u001b[0;34m:\u001b[0m \u001b[0;34m'dfs_ephemeral'\u001b[0m\u001b[0;34m}\u001b[0m\u001b[0;34m,\u001b[0m\u001b[0;34m\u001b[0m\u001b[0;34m\u001b[0m\u001b[0m\n",
            "\u001b[0;32m/usr/local/lib/python3.11/dist-packages/google/colab/_message.py\u001b[0m in \u001b[0;36mblocking_request\u001b[0;34m(request_type, request, timeout_sec, parent)\u001b[0m\n\u001b[1;32m    174\u001b[0m       \u001b[0mrequest_type\u001b[0m\u001b[0;34m,\u001b[0m \u001b[0mrequest\u001b[0m\u001b[0;34m,\u001b[0m \u001b[0mparent\u001b[0m\u001b[0;34m=\u001b[0m\u001b[0mparent\u001b[0m\u001b[0;34m,\u001b[0m \u001b[0mexpect_reply\u001b[0m\u001b[0;34m=\u001b[0m\u001b[0;32mTrue\u001b[0m\u001b[0;34m\u001b[0m\u001b[0;34m\u001b[0m\u001b[0m\n\u001b[1;32m    175\u001b[0m   )\n\u001b[0;32m--> 176\u001b[0;31m   \u001b[0;32mreturn\u001b[0m \u001b[0mread_reply_from_input\u001b[0m\u001b[0;34m(\u001b[0m\u001b[0mrequest_id\u001b[0m\u001b[0;34m,\u001b[0m \u001b[0mtimeout_sec\u001b[0m\u001b[0;34m)\u001b[0m\u001b[0;34m\u001b[0m\u001b[0;34m\u001b[0m\u001b[0m\n\u001b[0m",
            "\u001b[0;32m/usr/local/lib/python3.11/dist-packages/google/colab/_message.py\u001b[0m in \u001b[0;36mread_reply_from_input\u001b[0;34m(message_id, timeout_sec)\u001b[0m\n\u001b[1;32m    101\u001b[0m     ):\n\u001b[1;32m    102\u001b[0m       \u001b[0;32mif\u001b[0m \u001b[0;34m'error'\u001b[0m \u001b[0;32min\u001b[0m \u001b[0mreply\u001b[0m\u001b[0;34m:\u001b[0m\u001b[0;34m\u001b[0m\u001b[0;34m\u001b[0m\u001b[0m\n\u001b[0;32m--> 103\u001b[0;31m         \u001b[0;32mraise\u001b[0m \u001b[0mMessageError\u001b[0m\u001b[0;34m(\u001b[0m\u001b[0mreply\u001b[0m\u001b[0;34m[\u001b[0m\u001b[0;34m'error'\u001b[0m\u001b[0;34m]\u001b[0m\u001b[0;34m)\u001b[0m\u001b[0;34m\u001b[0m\u001b[0;34m\u001b[0m\u001b[0m\n\u001b[0m\u001b[1;32m    104\u001b[0m       \u001b[0;32mreturn\u001b[0m \u001b[0mreply\u001b[0m\u001b[0;34m.\u001b[0m\u001b[0mget\u001b[0m\u001b[0;34m(\u001b[0m\u001b[0;34m'data'\u001b[0m\u001b[0;34m,\u001b[0m \u001b[0;32mNone\u001b[0m\u001b[0;34m)\u001b[0m\u001b[0;34m\u001b[0m\u001b[0;34m\u001b[0m\u001b[0m\n\u001b[1;32m    105\u001b[0m \u001b[0;34m\u001b[0m\u001b[0m\n",
            "\u001b[0;31mMessageError\u001b[0m: Error: credential propagation was unsuccessful"
          ]
        }
      ]
    }
  ]
}